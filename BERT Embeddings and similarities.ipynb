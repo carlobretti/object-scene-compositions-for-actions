{
 "cells": [
  {
   "cell_type": "code",
   "execution_count": null,
   "id": "53c5d020-dd46-4156-9438-020e9b3d422d",
   "metadata": {},
   "outputs": [],
   "source": [
    "!pip install -U sentence-transformers"
   ]
  },
  {
   "cell_type": "code",
   "execution_count": 17,
   "id": "6e07b53f-a783-4725-848a-bcd12c3749a4",
   "metadata": {},
   "outputs": [],
   "source": [
    "from scipy.spatial.distance import cdist\n",
    "from sentence_transformers import SentenceTransformer\n",
    "import os\n",
    "import numpy as np"
   ]
  },
  {
   "cell_type": "code",
   "execution_count": 18,
   "id": "77ae6223-08fc-46fe-a2a1-3308564d490c",
   "metadata": {},
   "outputs": [],
   "source": [
    "model_name = \"paraphrase-MiniLM-L6-v2\" # best model in terms of tradeoff speed performance\n",
    "\n",
    "# model_name = \"distiluse-base-multilingual-cased-v1\" # model to be used for multilingual\n",
    "model = SentenceTransformer(model_name)\n"
   ]
  },
  {
   "cell_type": "code",
   "execution_count": 19,
   "id": "753aea62-6df3-41a3-a653-76d3bf17cb64",
   "metadata": {},
   "outputs": [],
   "source": [
    "langs = {\"en\":\"English\"}\n",
    "\n",
    "# langs = {\"en\":\"English\", \"af\":\"Afrikaans\", \"nl\":\"Dutch\", \"fr\":\"French\", \"pt\":\"Portuguese\"}\n",
    "\n",
    "# generate and store embeddings for all labels for the three datasets\n",
    "\n",
    "for dataset in [\"imagenet\", \"places-365\", \"ucf-101\"]:\n",
    "    ds_folder = f\"data/{dataset}/\"\n",
    "    ds_wd_folder = ds_folder+\"words/\"\n",
    "    ds_sbert_folder = ds_folder+\"sbert/\"\n",
    "\n",
    "\n",
    "    os.system(f\"mkdir -p {ds_sbert_folder}\")\n",
    "    \n",
    "    dataset = \"imagenet12988\" if dataset == \"imagenet\" else dataset.replace(\"-\", \"\")\n",
    "\n",
    "\n",
    "\n",
    "    for lang_short, lang in langs.items():\n",
    "        with open(ds_wd_folder+f\"{dataset}-words-{lang}.txt\", 'r') as f:\n",
    "            labels = f.readlines()\n",
    "        \n",
    "        labels = [label.strip().replace(\"_\", \" \") for label in labels]    \n",
    "        embeddings = model.encode(labels)\n",
    "        np.save(ds_sbert_folder+f\"sbert-{dataset}-{lang}.npy\", embeddings)"
   ]
  },
  {
   "cell_type": "code",
   "execution_count": null,
   "id": "8d218389-1203-430a-9b99-6b31c080a5f5",
   "metadata": {},
   "outputs": [],
   "source": []
  },
  {
   "cell_type": "code",
   "execution_count": 20,
   "id": "5fc89852-d4b6-4f14-8c88-4b794636bd19",
   "metadata": {},
   "outputs": [],
   "source": [
    "# generate and store embeddings for object-scene label pairs for the three datasets\n",
    "\n",
    "for lang_short, lang in langs.items():\n",
    "\n",
    "    imagenet_vecs = np.load(f\"data/imagenet/sbert/sbert-imagenet12988-{lang}.npy\")\n",
    "    places_vecs = np.load(f\"data/places-365/sbert/sbert-places365-{lang}.npy\")\n",
    "    \n",
    "    ds_sbert_folder = \"data/imagenet_places/sbert/\"\n",
    "    os.system(f\"mkdir -p {ds_sbert_folder}\")\n",
    "    \n",
    "    # averaging the embedding for object and for scene without dividing by norm\n",
    "    embeddings = np.array([np.mean([places_vec, imagenet_vec], axis = 0) for imagenet_vec in imagenet_vecs for places_vec in places_vecs])\n",
    "   \n",
    "    np.save(ds_sbert_folder+f\"sbert-imagenet12988places365pairs-{lang}.npy\", embeddings)"
   ]
  },
  {
   "cell_type": "code",
   "execution_count": 21,
   "id": "fc313f78-a975-4b27-9f74-cd07754de18c",
   "metadata": {},
   "outputs": [],
   "source": [
    "#\n",
    "# Pair-wise similarity between (action and scene), (action and object), (object and object), (scene and scene), (scene and object) word embeddings.\n",
    "#\n",
    "def wtv_mapping(wtv1, wtv2):\n",
    "    wtvmap = cdist(wtv1, wtv2, metric = \"cosine\")\n",
    "    return 1 - wtvmap\n",
    "\n",
    "\n",
    "for ds1, ds2 in [(\"imagenet\", \"places-365\"), (\"ucf-101\", \"places-365\"), (\"ucf-101\", \"imagenet\"), (\"imagenet\", \"imagenet\"), (\"places-365\", \"places-365\")]:\n",
    "    ds1_sbert_folder = f\"data/{ds1}/sbert/\"\n",
    "    ds2_sbert_folder = f\"data/{ds2}/sbert/\"\n",
    "    \n",
    "    ds1 = \"imagenet12988\" if ds1 == \"imagenet\" else ds1.replace(\"-\", \"\")\n",
    "    ds2 = \"imagenet12988\" if ds2 == \"imagenet\" else ds2.replace(\"-\", \"\")\n",
    "    \n",
    "    for lang_short, lang in langs.items():\n",
    "        ds1_emb = np.load(ds1_sbert_folder+f\"sbert-{ds1}-{lang}.npy\")\n",
    "        ds2_emb = np.load(ds2_sbert_folder+f\"sbert-{ds2}-{lang}.npy\")\n",
    "        \n",
    "        emb2emb = wtv_mapping(ds1_emb, ds2_emb)\n",
    "        \n",
    "        corr = {\"imagenet12988\":\"o\", \"places365\":\"s\", \"ucf101\":\"a\"}\n",
    "        \n",
    "        np.save(ds1_sbert_folder+f\"{corr[ds1]}2{corr[ds2]}_sbert_{ds2}_{lang}.npy\", emb2emb)"
   ]
  },
  {
   "cell_type": "code",
   "execution_count": null,
   "id": "90dd2a23-b574-439f-af58-804517203eec",
   "metadata": {},
   "outputs": [],
   "source": [
    "# computing pairwise similarity for object-scene pairs and actions\n",
    "\n",
    "for lang_short, lang in langs.items():\n",
    "    ds1_emb = np.load(f\"data/ucf-101/sbert/sbert-ucf101-{lang}.npy\")\n",
    "    ds2_emb = np.load(f\"data/imagenet_places/sbert/sbert-imagenet12988places365pairs-{lang}.npy\")\n",
    "\n",
    "    \n",
    "    emb2emb = wtv_mapping(ds2_emb, ds1_emb)\n",
    "    np.save(f\"data/ucf-101/sbert/a2ospairs_sbert_imagenet12988places365pairs_{lang}.npy\", emb2emb.T)\n",
    "    \n"
   ]
  },
  {
   "cell_type": "code",
   "execution_count": null,
   "id": "df17d063-274c-4526-8fa9-64ac927ca4a9",
   "metadata": {},
   "outputs": [],
   "source": []
  }
 ],
 "metadata": {
  "kernelspec": {
   "display_name": "Python 3",
   "language": "python",
   "name": "python3"
  },
  "language_info": {
   "codemirror_mode": {
    "name": "ipython",
    "version": 3
   },
   "file_extension": ".py",
   "mimetype": "text/x-python",
   "name": "python",
   "nbconvert_exporter": "python",
   "pygments_lexer": "ipython3",
   "version": "3.8.8"
  }
 },
 "nbformat": 4,
 "nbformat_minor": 5
}
