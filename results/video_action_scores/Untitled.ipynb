{
 "cells": [
  {
   "cell_type": "code",
   "execution_count": 1,
   "id": "5e5e7efd-21aa-40e2-a333-896e2b635802",
   "metadata": {},
   "outputs": [],
   "source": [
    "import numpy as np\n",
    "import os"
   ]
  },
  {
   "cell_type": "code",
   "execution_count": 16,
   "id": "1392e5db-baef-4251-85ca-14693e08d22b",
   "metadata": {},
   "outputs": [],
   "source": [
    "np.set_printoptions(threshold=1000)"
   ]
  },
  {
   "cell_type": "code",
   "execution_count": 18,
   "id": "7fa1a720-a8f3-4fb5-85e1-484585292f08",
   "metadata": {},
   "outputs": [],
   "source": [
    "directory = \"./\"\n",
    "for file in os.listdir(directory):\n",
    "    filename = os.fsdecode(file)\n",
    "    if filename.endswith(\".npy\"):\n",
    "        nas = np.sum(np.isnan(np.load(str(filename))))\n",
    "        if nas > 0:\n",
    "            rottenfiles = np.unique(np.argwhere(np.isnan(np.load(str(filename)))).T[0])\n",
    "#             print(filename, \"\\t\", nas, \"\\n\", np.unique(np.argwhere(np.isnan(np.load(str(filename)))).T[0]))\n",
    "            "
   ]
  },
  {
   "cell_type": "code",
   "execution_count": 19,
   "id": "71e4ac63-7d92-42bd-86d5-a85594490c75",
   "metadata": {},
   "outputs": [
    {
     "data": {
      "text/plain": [
       "array([ 70,  71,  72,  73,  74,  75,  76,  77,  78,  79,  80,  81, 102,\n",
       "       127, 128, 129, 259, 260, 261, 262, 263, 267, 268, 402, 403, 404,\n",
       "       765])"
      ]
     },
     "execution_count": 19,
     "metadata": {},
     "output_type": "execute_result"
    }
   ],
   "source": [
    "rottenfiles"
   ]
  },
  {
   "cell_type": "code",
   "execution_count": 22,
   "id": "26996da1-d865-4c5e-87ef-db9a7acbf951",
   "metadata": {},
   "outputs": [],
   "source": [
    "root = \"../../data/j-hmdb/objectscores\"\n",
    "with open(\"../../data/j-hmdb/annotations/all_videos.txt\") as f:\n",
    "    videos = np.array(f.read().splitlines())"
   ]
  },
  {
   "cell_type": "code",
   "execution_count": 25,
   "id": "d0741274-1ce7-474a-a467-f3f2dd8a1827",
   "metadata": {},
   "outputs": [
    {
     "name": "stdout",
     "output_type": "stream",
     "text": [
      "[nan nan nan ... nan nan nan]\n",
      "[nan nan nan ... nan nan nan]\n",
      "[nan nan nan ... nan nan nan]\n",
      "[nan nan nan ... nan nan nan]\n",
      "[nan nan nan ... nan nan nan]\n",
      "[nan nan nan ... nan nan nan]\n",
      "[nan nan nan ... nan nan nan]\n",
      "[nan nan nan ... nan nan nan]\n",
      "[nan nan nan ... nan nan nan]\n",
      "[nan nan nan ... nan nan nan]\n",
      "[nan nan nan ... nan nan nan]\n",
      "[nan nan nan ... nan nan nan]\n",
      "[nan nan nan ... nan nan nan]\n",
      "[nan nan nan ... nan nan nan]\n",
      "[nan nan nan ... nan nan nan]\n",
      "[nan nan nan ... nan nan nan]\n",
      "[nan nan nan ... nan nan nan]\n",
      "[nan nan nan ... nan nan nan]\n",
      "[nan nan nan ... nan nan nan]\n",
      "[nan nan nan ... nan nan nan]\n",
      "[nan nan nan ... nan nan nan]\n",
      "[nan nan nan ... nan nan nan]\n",
      "[nan nan nan ... nan nan nan]\n",
      "[nan nan nan ... nan nan nan]\n",
      "[nan nan nan ... nan nan nan]\n",
      "[nan nan nan ... nan nan nan]\n",
      "[nan nan nan ... nan nan nan]\n"
     ]
    }
   ],
   "source": [
    "for file in videos[rottenfiles]:\n",
    "    print(np.load(root+\"/\"+file+\"/avg-features.npy\"))"
   ]
  },
  {
   "cell_type": "code",
   "execution_count": 27,
   "id": "79de4c08-4130-40c3-bb08-d35dfcaad2f1",
   "metadata": {},
   "outputs": [
    {
     "data": {
      "text/plain": [
       "array(['catch/Torwarttraining_2_(_sterreich)_catch_f_cm_np1_ba_goo_0',\n",
       "       'catch/Torwarttraining_2_(_sterreich)_catch_f_cm_np1_ba_goo_1',\n",
       "       'catch/Torwarttraining_2_(_sterreich)_catch_f_cm_np1_ba_goo_2',\n",
       "       'catch/Torwarttraining_2_(_sterreich)_catch_f_cm_np1_le_med_3',\n",
       "       'catch/Torwarttraining_2_(_sterreich)_catch_f_cm_np1_le_med_4',\n",
       "       'catch/Torwarttraining_2_(_sterreich)_catch_f_cm_np1_le_med_5',\n",
       "       'catch/Torwarttraining_3_(_sterreich)_catch_f_nm_np1_fr_med_3',\n",
       "       'catch/Torwarttraining_3_(_sterreich)_catch_f_nm_np1_fr_med_4',\n",
       "       'catch/Torwarttraining_3_(_sterreich)_catch_f_nm_np1_fr_med_5',\n",
       "       'catch/Torwarttraining_3_(_sterreich)_catch_f_nm_np1_le_med_0',\n",
       "       'catch/Torwarttraining_3_(_sterreich)_catch_f_nm_np1_le_med_1',\n",
       "       'catch/Torwarttraining_3_(_sterreich)_catch_f_nm_np1_le_med_2',\n",
       "       'clap/Boom__Snap__Clap!_(Challenge)_clap_u_nm_np1_fr_med_1',\n",
       "       'clap/boom_snap_clap_(challenge)_HARDCORE_VERSION!_clap_u_nm_np1_fr_bad_0',\n",
       "       'clap/boom_snap_clap_(challenge)_clap_u_nm_np1_fr_med_0',\n",
       "       'clap/boom_snap_clap_(challenge)_clap_u_nm_np1_fr_med_1',\n",
       "       'kick_ball/DWK_1_-_Der_ganze_Film_(Part_8_9)_kick_ball_f_cm_np1_ba_goo_0',\n",
       "       'kick_ball/Das_Wunder_von_Bern_(Deutschland_2002_2003)_kick_ball_f_cm_np1_fr_goo_2',\n",
       "       'kick_ball/Das_Wunder_von_Bern_(Deutschland_2002_2003)_kick_ball_f_cm_np1_ri_goo_3',\n",
       "       'kick_ball/Dhan_Dhana_Dhan_Goal_(2007)_w__Eng_Sub_-_Watch_Online_-_4_16_kick_ball_f_cm_np1_fr_goo_3',\n",
       "       'kick_ball/Dhan_Dhana_Dhan_Goal_(2007)_w__Eng_Sub_-_Watch_Online_-_4_16_kick_ball_f_cm_np1_ri_goo_0',\n",
       "       'kick_ball/FOOT_2009_(REMI_GAILLARD)_kick_ball_f_cm_np1_ba_bad_1',\n",
       "       'kick_ball/FOOT_2009_(REMI_GAILLARD)_kick_ball_f_cm_np1_ba_bad_2',\n",
       "       'pullup/30_(dead-hang)_pull-ups_pullup_u_cm_np1_ba_med_0',\n",
       "       'pullup/30_(dead-hang)_pull-ups_pullup_u_cm_np1_ba_med_1',\n",
       "       'pullup/30_(dead-hang)_pull-ups_pullup_u_cm_np1_ba_med_2',\n",
       "       'swing_baseball/Hittingadouble(BXbaseball)_swing_baseball_f_nm_np1_ba_bad_0'],\n",
       "      dtype='<U111')"
      ]
     },
     "execution_count": 27,
     "metadata": {},
     "output_type": "execute_result"
    }
   ],
   "source": [
    "videos[rottenfiles]"
   ]
  },
  {
   "cell_type": "code",
   "execution_count": null,
   "id": "b8425cdc-7bce-43ca-ac8e-afc405dc829a",
   "metadata": {},
   "outputs": [],
   "source": []
  }
 ],
 "metadata": {
  "kernelspec": {
   "display_name": "Python 3",
   "language": "python",
   "name": "python3"
  },
  "language_info": {
   "codemirror_mode": {
    "name": "ipython",
    "version": 3
   },
   "file_extension": ".py",
   "mimetype": "text/x-python",
   "name": "python",
   "nbconvert_exporter": "python",
   "pygments_lexer": "ipython3",
   "version": "3.8.8"
  }
 },
 "nbformat": 4,
 "nbformat_minor": 5
}
