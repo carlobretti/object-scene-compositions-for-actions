{
 "cells": [
  {
   "cell_type": "markdown",
   "metadata": {},
   "source": [
    "# Plotting probabilities for objects and scenes"
   ]
  },
  {
   "cell_type": "code",
   "execution_count": 2,
   "metadata": {},
   "outputs": [],
   "source": [
    "import numpy as np\n",
    "from nltk.corpus import wordnet as wn\n",
    "import matplotlib.pyplot as plt"
   ]
  },
  {
   "cell_type": "code",
   "execution_count": 3,
   "metadata": {},
   "outputs": [],
   "source": [
    "videos = \"data/ucf-101/annotations/all_videos.txt\"\n",
    "videos = [l.strip().split()[0] for l in open(videos)]\n",
    "videos = [video.split(\"/\")[-1][:-4] for video in videos]\n",
    "objectscores = \"data/ucf-101/objectscores/\"\n",
    "scenescores = \"data/ucf-101/scenescores-resnet50/\"\n",
    "ext = \"/avg-features.npy\"\n",
    "wnids = [c.strip() for c in open(\"data/imagenet/wnids-12988.txt\")]\n",
    "object_labels = [wn.synset_from_pos_and_offset('n',int(wnid[1:])).lemma_names()[0] for wnid in wnids]\n",
    "scene_labels = [c.strip() for c in open(\"data/places-365/words/places365-words-English.txt\")]"
   ]
  },
  {
   "cell_type": "code",
   "execution_count": 4,
   "metadata": {},
   "outputs": [],
   "source": [
    "all_obj = []\n",
    "all_sce = []\n",
    "for vidfile in videos:\n",
    "    objavgfeat = np.load(objectscores + vidfile + ext)\n",
    "    all_obj.append(objavgfeat)\n",
    "    sceavgfeat = np.load(scenescores + vidfile + ext)\n",
    "    all_sce.append(sceavgfeat)\n",
    "    \n",
    "all_obj = np.array(all_obj)\n",
    "all_sce = np.array(all_sce)"
   ]
  },
  {
   "cell_type": "code",
   "execution_count": 72,
   "metadata": {},
   "outputs": [],
   "source": [
    "x = np.argmax(all_obj, axis = 1)"
   ]
  },
  {
   "cell_type": "code",
   "execution_count": 73,
   "metadata": {},
   "outputs": [],
   "source": [
    "y = np.bincount(x)\n",
    "ii = np.nonzero(y)[0]\n",
    "freq = np.vstack((ii,y[ii])).T\n",
    "sorted_freq = freq[(-1*freq[:, 1]).argsort()]"
   ]
  },
  {
   "cell_type": "code",
   "execution_count": 75,
   "metadata": {},
   "outputs": [
    {
     "data": {
      "text/plain": [
       "7958"
      ]
     },
     "execution_count": 75,
     "metadata": {},
     "output_type": "execute_result"
    }
   ],
   "source": [
    "np.sum(sorted_freq[:100], axis = 0)[1]"
   ]
  },
  {
   "cell_type": "code",
   "execution_count": 68,
   "metadata": {},
   "outputs": [
    {
     "data": {
      "text/plain": [
       "(array([353.,   3.,   1.,   2.,   2.,   1.,   0.,   1.,   0.,   2.]),\n",
       " array([0.00000013, 0.01532017, 0.03064021, 0.04596024, 0.06128028,\n",
       "        0.07660032, 0.09192036, 0.1072404 , 0.12256044, 0.13788049,\n",
       "        0.15320052], dtype=float32),\n",
       " <BarContainer object of 10 artists>)"
      ]
     },
     "execution_count": 68,
     "metadata": {},
     "output_type": "execute_result"
    },
    {
     "data": {
      "image/png": "[encoded data removed]",
      "text/plain": [
       "<Figure size 432x288 with 1 Axes>"
      ]
     },
     "metadata": {
      "needs_background": "light"
     },
     "output_type": "display_data"
    }
   ],
   "source": [
    "# np.set_printoptions(suppress=True)\n",
    "# plt.hist(all_sce[0])"
   ]
  },
  {
   "cell_type": "code",
   "execution_count": 10,
   "metadata": {},
   "outputs": [],
   "source": [
    "objsce_cooccur = np.matmul(all_obj.T, all_sce)"
   ]
  },
  {
   "cell_type": "code",
   "execution_count": 40,
   "metadata": {},
   "outputs": [
    {
     "data": {
      "text/plain": [
       "0"
      ]
     },
     "execution_count": 40,
     "metadata": {},
     "output_type": "execute_result"
    }
   ],
   "source": [
    "np.count_nonzero(all_sce == 0)"
   ]
  },
  {
   "cell_type": "code",
   "execution_count": 38,
   "metadata": {},
   "outputs": [
    {
     "data": {
      "text/plain": [
       "array([[0.00005165, 0.0012574 , 0.00063127, ..., 0.00362015, 0.00131529,\n",
       "        0.00092897],\n",
       "       [0.00055756, 0.00052611, 0.00075029, ..., 0.00192826, 0.00032283,\n",
       "        0.00056861],\n",
       "       [0.00005685, 0.00036225, 0.0001853 , ..., 0.00036402, 0.00012206,\n",
       "        0.00032104],\n",
       "       ...,\n",
       "       [0.00004526, 0.00002669, 0.00016389, ..., 0.00093308, 0.00005707,\n",
       "        0.00044296],\n",
       "       [0.00003518, 0.00002729, 0.00005392, ..., 0.00007606, 0.00002113,\n",
       "        0.00003995],\n",
       "       [0.00005372, 0.00079932, 0.00132672, ..., 0.00239246, 0.00064288,\n",
       "        0.000903  ]], dtype=float32)"
      ]
     },
     "execution_count": 38,
     "metadata": {},
     "output_type": "execute_result"
    }
   ],
   "source": [
    "objsce_cooccur"
   ]
  },
  {
   "cell_type": "code",
   "execution_count": 36,
   "metadata": {},
   "outputs": [
    {
     "data": {
      "text/plain": [
       "array([[  0.5230135 ,   0.5230127 ],\n",
       "       [  0.97757053,   0.97756696],\n",
       "       [  0.45031816,   0.45031774],\n",
       "       [  7.7662735 ,   7.766279  ],\n",
       "       [  0.95368874,   0.953688  ],\n",
       "       [  0.02759378,   0.02759377],\n",
       "       [  1.1475875 ,   1.1475838 ],\n",
       "       [  2.6410956 ,   2.6410782 ],\n",
       "       [  5.1190963 ,   5.119052  ],\n",
       "       [ 23.08818   ,  23.088125  ],\n",
       "       [  4.232916  ,   4.232889  ],\n",
       "       [  0.9213432 ,   0.9213434 ],\n",
       "       [ 10.085921  ,  10.08591   ],\n",
       "       [ 67.48157   ,  67.481514  ],\n",
       "       [ 17.944527  ,  17.944456  ],\n",
       "       [ 19.625568  ,  19.625563  ],\n",
       "       [  3.981924  ,   3.9819217 ],\n",
       "       [ 30.46026   ,  30.46015   ],\n",
       "       [ 42.738567  ,  42.73826   ],\n",
       "       [  7.9756255 ,   7.97562   ],\n",
       "       [  3.4031737 ,   3.4031603 ],\n",
       "       [  9.272732  ,   9.272718  ],\n",
       "       [ 27.870504  ,  27.870518  ],\n",
       "       [ 49.418938  ,  49.418526  ],\n",
       "       [  4.8957176 ,   4.8957095 ],\n",
       "       [ 17.000761  ,  17.000729  ],\n",
       "       [ 15.7980175 ,  15.797928  ],\n",
       "       [ 36.543453  ,  36.542934  ],\n",
       "       [ 10.277734  ,  10.277674  ],\n",
       "       [  5.2659836 ,   5.2659726 ],\n",
       "       [  8.96437   ,   8.96432   ],\n",
       "       [ 23.113562  ,  23.113499  ],\n",
       "       [ 26.314663  ,  26.314592  ],\n",
       "       [ 38.71795   ,  38.71782   ],\n",
       "       [ 26.207447  ,  26.207336  ],\n",
       "       [ 20.95461   ,  20.95449   ],\n",
       "       [  5.454103  ,   5.454076  ],\n",
       "       [  8.542023  ,   8.541953  ],\n",
       "       [  6.7656384 ,   6.765633  ],\n",
       "       [ 29.371479  ,  29.371372  ],\n",
       "       [  7.8924856 ,   7.892468  ],\n",
       "       [  5.0393467 ,   5.0393205 ],\n",
       "       [  6.516917  ,   6.5168743 ],\n",
       "       [  4.618186  ,   4.6181726 ],\n",
       "       [ 10.052678  ,  10.052635  ],\n",
       "       [  2.5344105 ,   2.5343976 ],\n",
       "       [ 26.555037  ,  26.554932  ],\n",
       "       [ 54.296146  ,  54.296036  ],\n",
       "       [ 38.60653   ,  38.60627   ],\n",
       "       [115.78234   , 115.781494  ]], dtype=float32)"
      ]
     },
     "execution_count": 36,
     "metadata": {},
     "output_type": "execute_result"
    }
   ],
   "source": [
    "np.vstack((np.sum(objsce_cooccur, axis= 1), np.sum(all_obj, axis = 0))).T[:50]"
   ]
  },
  {
   "cell_type": "code",
   "execution_count": 26,
   "metadata": {},
   "outputs": [
    {
     "data": {
      "text/plain": [
       "(12988,)"
      ]
     },
     "execution_count": 26,
     "metadata": {},
     "output_type": "execute_result"
    }
   ],
   "source": [
    "np.mean(objsce_cooccur, axis= 1).shape"
   ]
  },
  {
   "cell_type": "code",
   "execution_count": 27,
   "metadata": {},
   "outputs": [
    {
     "data": {
      "text/plain": [
       "(12988,)"
      ]
     },
     "execution_count": 27,
     "metadata": {},
     "output_type": "execute_result"
    }
   ],
   "source": [
    "np.mean(all_obj, axis = 0).shape"
   ]
  },
  {
   "cell_type": "code",
   "execution_count": null,
   "metadata": {},
   "outputs": [],
   "source": []
  }
 ],
 "metadata": {
  "kernelspec": {
   "display_name": "Python 3",
   "language": "python",
   "name": "python3"
  },
  "language_info": {
   "codemirror_mode": {
    "name": "ipython",
    "version": 3
   },
   "file_extension": ".py",
   "mimetype": "text/x-python",
   "name": "python",
   "nbconvert_exporter": "python",
   "pygments_lexer": "ipython3",
   "version": "3.8.5"
  }
 },
 "nbformat": 4,
 "nbformat_minor": 4
}
